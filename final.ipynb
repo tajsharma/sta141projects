{
 "cells": [
  {
   "cell_type": "code",
   "execution_count": 2,
   "id": "9428d04b",
   "metadata": {},
   "outputs": [],
   "source": [
    "from nba_api.stats.static import players\n",
    "from nba_api.stats.endpoints import playergamelog\n",
    "from nba_api.stats.library.parameters import SeasonAll\n",
    "import pandas as pd\n"
   ]
  },
  {
   "cell_type": "code",
   "execution_count": 5,
   "id": "17c9d1d4",
   "metadata": {},
   "outputs": [
    {
     "name": "stdout",
     "output_type": "stream",
     "text": [
      "Processed 1 out of 7 seasons. (14.29%)\n",
      "Processed 2 out of 7 seasons. (28.57%)\n",
      "Processed 3 out of 7 seasons. (42.86%)\n",
      "Processed 4 out of 7 seasons. (57.14%)\n",
      "Processed 5 out of 7 seasons. (71.43%)\n",
      "Processed 6 out of 7 seasons. (85.71%)\n",
      "Processed 7 out of 7 seasons. (100.00%)\n",
      "\n",
      "League Leaders in 3-Point Shooting Percentage by Season (min 100 attempts):\n",
      "2015-16: Josh Richardson - 0.461 (3PA: 115)\n",
      "2016-17: Joe Ingles - 0.441 (3PA: 279)\n",
      "2017-18: Reggie Bullock Jr. - 0.445 (3PA: 281)\n",
      "2018-19: Joe Harris - 0.474 (3PA: 386)\n",
      "2019-20: Seth Curry - 0.452 (3PA: 321)\n",
      "2020-21: Joe Harris - 0.475 (3PA: 444)\n",
      "2021-22: Luke Kennard - 0.449 (3PA: 423)\n"
     ]
    }
   ],
   "source": [
    "# Get a list of all active NBA players\n",
    "player_dict = players.get_active_players()\n",
    "\n",
    "seasons = [f\"{year}-{str(year+1)[-2:]}\" for year in range(2015, 2022)]\n",
    "\n",
    "total_seasons = len(seasons)\n",
    "\n",
    "# Store the top shooter for each season\n",
    "season_top_shooters = {}\n",
    "\n",
    "for i, season in enumerate(seasons):\n",
    "    season_3pt_shooters = []\n",
    "\n",
    "    for player in player_dict:\n",
    "        player_id = player['id']\n",
    "        player_name = f\"{player['first_name']} {player['last_name']}\"\n",
    "\n",
    "        try:\n",
    "            # Get game log for the player for the specific season\n",
    "            game_log = playergamelog.PlayerGameLog(player_id=player_id, season=season)\n",
    "            game_log_df = game_log.get_data_frames()[0]\n",
    "\n",
    "            # Calculate the total 3-point attempts and makes\n",
    "            total_3pa = game_log_df['FG3A'].sum()\n",
    "            total_3pm = game_log_df['FG3M'].sum()\n",
    "\n",
    "            # Check if the player has at least 100 3PA\n",
    "            if total_3pa >= 100:\n",
    "                efficiency_3pm = total_3pm / total_3pa\n",
    "                season_3pt_shooters.append({'Player': player_name, '3PT Efficiency': efficiency_3pm, '3PA': total_3pa})\n",
    "\n",
    "        except Exception as e:\n",
    "            print(f\"Error processing player {player_name} for season {season}: {str(e)}\")\n",
    "\n",
    "    # Determine the player with the highest three-point shooting percentage for the season\n",
    "    if season_3pt_shooters:\n",
    "        top_shooter = max(season_3pt_shooters, key=lambda x: x['3PT Efficiency'])\n",
    "        season_top_shooters[season] = top_shooter\n",
    "\n",
    "    # Print the progress\n",
    "    print(f\"Processed {i+1} out of {total_seasons} seasons. ({(i+1)/total_seasons*100:.2f}%)\")\n",
    "\n",
    "# Print the top shooter for each season\n",
    "print(\"\\nLeague Leaders in 3-Point Shooting Percentage by Season (min 100 attempts):\")\n",
    "for season, shooter in season_top_shooters.items():\n",
    "    print(f\"{season}: {shooter['Player']} - {shooter['3PT Efficiency']:.3f} (3PA: {shooter['3PA']})\")"
   ]
  },
  {
   "cell_type": "code",
   "execution_count": 7,
   "id": "0a2ff5a6",
   "metadata": {},
   "outputs": [
    {
     "ename": "ModuleNotFoundError",
     "evalue": "No module named 'sklearn'",
     "output_type": "error",
     "traceback": [
      "\u001b[1;31m---------------------------------------------------------------------------\u001b[0m",
      "\u001b[1;31mModuleNotFoundError\u001b[0m                       Traceback (most recent call last)",
      "Cell \u001b[1;32mIn[7], line 2\u001b[0m\n\u001b[0;32m      1\u001b[0m \u001b[38;5;28;01mimport\u001b[39;00m \u001b[38;5;21;01mrandom\u001b[39;00m\n\u001b[1;32m----> 2\u001b[0m \u001b[38;5;28;01mfrom\u001b[39;00m \u001b[38;5;21;01msklearn\u001b[39;00m\u001b[38;5;21;01m.\u001b[39;00m\u001b[38;5;21;01mlinear_model\u001b[39;00m \u001b[38;5;28;01mimport\u001b[39;00m LinearRegression\n\u001b[0;32m      3\u001b[0m \u001b[38;5;28;01mfrom\u001b[39;00m \u001b[38;5;21;01mnba_api\u001b[39;00m\u001b[38;5;21;01m.\u001b[39;00m\u001b[38;5;21;01mstats\u001b[39;00m\u001b[38;5;21;01m.\u001b[39;00m\u001b[38;5;21;01mendpoints\u001b[39;00m \u001b[38;5;28;01mimport\u001b[39;00m playercareerstats, commonplayerinfo\n\u001b[0;32m      5\u001b[0m \u001b[38;5;28;01mdef\u001b[39;00m \u001b[38;5;21mget_player_height\u001b[39m(player_id):\n\u001b[0;32m      6\u001b[0m     \u001b[38;5;66;03m# Get player info\u001b[39;00m\n",
      "\u001b[1;31mModuleNotFoundError\u001b[0m: No module named 'sklearn'"
     ]
    }
   ],
   "source": [
    "import random\n",
    "from sklearn.linear_model import LinearRegression\n",
    "from nba_api.stats.endpoints import playercareerstats, commonplayerinfo\n",
    "\n",
    "def get_player_height(player_id):\n",
    "    # Get player info\n",
    "    player_info = commonplayerinfo.CommonPlayerInfo(player_id=player_id)\n",
    "    player_info = player_info.get_normalized_dict()\n",
    "    player_info = player_info.get('CommonPlayerInfo')[0]\n",
    "\n",
    "    # Return player height\n",
    "    return player_info.get('HEIGHT')\n",
    "\n",
    "# Sample code to fetch player height and 3-point percentage\n",
    "\n",
    "player_dict = players.get_active_players()\n",
    "player_data = []\n",
    "\n",
    "for player in player_dict:\n",
    "    player_id = player['id']\n",
    "    player_name = player['full_name']\n",
    "\n",
    "    # Fetch career stats for the player\n",
    "    career = playercareerstats.PlayerCareerStats(player_id=player_id)\n",
    "    career_df = career.get_data_frames()[0]\n",
    "\n",
    "    # Calculate career 3-point percentage\n",
    "    total_3pa = career_df['FG3A'].sum()\n",
    "    total_3pm = career_df['FG3M'].sum()\n",
    "    three_pt_pct = total_3pm / total_3pa if total_3pa > 0 else None\n",
    "\n",
    "    # Get player height\n",
    "    height = get_player_height(player_id)\n",
    "\n",
    "    if height is not None and three_pt_pct is not None:\n",
    "        player_data.append({'Player': player_name, 'Height': height, '3PT%': three_pt_pct})\n",
    "\n",
    "# Create a DataFrame\n",
    "df = pd.DataFrame(player_data)\n",
    "\n",
    "# Data preprocessing steps (e.g., converting height to a numerical value) go here\n",
    "\n",
    "# Drop rows with missing values\n",
    "df.dropna(inplace=True)\n",
    "\n",
    "# Create a linear regression model\n",
    "X = df[['Height']]\n",
    "y = df['3PT%']\n",
    "model = LinearRegression().fit(X, y)\n",
    "\n",
    "# Output the coefficient and R-squared value\n",
    "print('Coefficient:', model.coef_)\n",
    "print('R-squared:', model.score(X, y))"
   ]
  },
  {
   "cell_type": "code",
   "execution_count": null,
   "id": "96e0d140-7da0-47f2-b87d-4b000ef3cb80",
   "metadata": {},
   "outputs": [],
   "source": []
  }
 ],
 "metadata": {
  "kernelspec": {
   "display_name": "Python 3 (ipykernel)",
   "language": "python",
   "name": "python3"
  },
  "language_info": {
   "codemirror_mode": {
    "name": "ipython",
    "version": 3
   },
   "file_extension": ".py",
   "mimetype": "text/x-python",
   "name": "python",
   "nbconvert_exporter": "python",
   "pygments_lexer": "ipython3",
   "version": "3.12.0"
  }
 },
 "nbformat": 4,
 "nbformat_minor": 5
}
