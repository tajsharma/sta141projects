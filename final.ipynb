{
 "cells": [
  {
   "cell_type": "code",
   "execution_count": 1,
   "id": "9428d04b",
   "metadata": {},
   "outputs": [],
   "source": [
    "from nba_api.stats.static import players\n",
    "from nba_api.stats.endpoints import playergamelog\n",
    "from nba_api.stats.library.parameters import SeasonAll\n",
    "import pandas as pd\n"
   ]
  },
  {
   "cell_type": "code",
   "execution_count": 5,
   "id": "17c9d1d4",
   "metadata": {},
   "outputs": [
    {
     "name": "stdout",
     "output_type": "stream",
     "text": [
      "Top 10 Three-Point Shooters by Efficiency:\n",
      "{'Player': 'Joe Harris', '3PT Efficiency': 0.43717728055077454, '3PA': 2324}\n",
      "{'Player': 'Luke Kennard', '3PT Efficiency': 0.43698016634676906, '3PA': 1563}\n",
      "{'Player': 'Seth Curry', '3PT Efficiency': 0.4352879027997887, '3PA': 1893}\n",
      "{'Player': 'Stephen Curry', '3PT Efficiency': 0.42754445705637534, '3PA': 7929}\n",
      "{'Player': 'Desmond Bane', '3PT Efficiency': 0.42547876769358867, '3PA': 1201}\n",
      "{'Player': 'Sam Hauser', '3PT Efficiency': 0.41952506596306066, '3PA': 379}\n",
      "{'Player': 'AJ Green', '3PT Efficiency': 0.41904761904761906, '3PA': 105}\n",
      "{'Player': 'Michael Porter Jr.', '3PT Efficiency': 0.41707080504364696, '3PA': 1031}\n",
      "{'Player': 'Klay Thompson', '3PT Efficiency': 0.41621214970848225, '3PA': 5317}\n",
      "{'Player': 'Patrick Williams', '3PT Efficiency': 0.4144144144144144, '3PA': 444}\n"
     ]
    }
   ],
   "source": [
    "# Get a list of all active NBA players\n",
    "player_dict = players.get_active_players()\n",
    "\n",
    "top_3_point_shooters = []\n",
    "\n",
    "for player in player_dict:\n",
    "    player_id = player['id']\n",
    "    player_name = f\"{player['first_name']} {player['last_name']}\"\n",
    "\n",
    "    # Get game log for the player for all seasons\n",
    "    game_log = playergamelog.PlayerGameLog(player_id=player_id, season=SeasonAll.all)\n",
    "\n",
    "    try:\n",
    "        game_log_df = game_log.get_data_frames()[0]\n",
    "\n",
    "        # Filter for seasons from 2009 to 2022\n",
    "        game_log_df = game_log_df[(game_log_df['SEASON_ID'] >= '22009') & (game_log_df['SEASON_ID'] <= '22022')]\n",
    "\n",
    "        # Calculate the total 3-point attempts\n",
    "        total_3pa = game_log_df['FG3A'].sum()\n",
    "\n",
    "        # Check if the player has at least 100 3PA\n",
    "        if total_3pa >= 100:\n",
    "            total_3pm = game_log_df['FG3M'].sum()\n",
    "            efficiency_3pm = total_3pm / total_3pa\n",
    "\n",
    "            top_3_point_shooters.append({'Player': player_name, '3PT Efficiency': efficiency_3pm, '3PA': total_3pa})\n",
    "\n",
    "    except Exception as e:\n",
    "        print(f\"Error processing player {player_name}: {str(e)}\")\n",
    "\n",
    "# Sort the list of top 3-point shooters by their three-point shooting efficiency\n",
    "top_3_point_shooters = sorted(top_3_point_shooters, key=lambda x: x['3PT Efficiency'], reverse=True)\n",
    "\n",
    "# Get the top 10 three-point shooters\n",
    "top_3_point_shooters = top_3_point_shooters[:10]\n",
    "\n",
    "# Print the list of top 3-point shooters\n",
    "print(\"Top 10 Three-Point Shooters by Efficiency:\")\n",
    "for shooter in top_3_point_shooters:\n",
    "    print(shooter)\n",
    "\n",
    "# Create a DataFrame to display the results (optional)\n",
    "# top_3_point_shooters_df = pd.DataFrame(top_3_point_shooters)\n",
    "# print(top_3_point_shooters_df)"
   ]
  },
  {
   "cell_type": "code",
   "execution_count": null,
   "id": "0a2ff5a6",
   "metadata": {},
   "outputs": [],
   "source": []
  }
 ],
 "metadata": {
  "kernelspec": {
   "display_name": "Python 3 (ipykernel)",
   "language": "python",
   "name": "python3"
  },
  "language_info": {
   "codemirror_mode": {
    "name": "ipython",
    "version": 3
   },
   "file_extension": ".py",
   "mimetype": "text/x-python",
   "name": "python",
   "nbconvert_exporter": "python",
   "pygments_lexer": "ipython3",
   "version": "3.12.0"
  }
 },
 "nbformat": 4,
 "nbformat_minor": 5
}
