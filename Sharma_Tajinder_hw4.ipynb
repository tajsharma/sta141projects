{
 "cells": [
  {
   "cell_type": "markdown",
   "metadata": {},
   "source": [
    "\n",
    "# STA 141B Assignment 3\n",
    "\n",
    "Due __Nov 24, 2023__ by __11:59pm__. Submit your work by uploading it to Gradescope through Canvas.\n",
    "\n",
    "Please rename this file as __\"LastName_FirstName_hw3\"__ and export it as as pdf-file. \n",
    "\n",
    "The objective of this assignment is acquire data via web APIs.  \n",
    "\n",
    "Instructions:\n",
    "\n",
    "1. Provide your solutions in new cells following each exercise description. Create as many new cells as necessary. Use code cells for your Python scripts and Markdown cells for explanatory text or answers to non-coding questions. Answer all textual questions in complete sentences.\n",
    "\n",
    "2. Prioritize code readability. Just as in writing a book, the clarity of each line matters. Adopt the __one-statement-per-line__ rule. If you have a lengthy code statement, consider breaking it into multiple lines for clarity. (Please note: violating the one-statement-per-line rule will result in a one-point deduction for each offending line.)\n",
    "\n",
    "3. To help understand and maintain code, you should always add comments to explain your code. Use the hash symbol (#) to start writing a comment (homework without any comments will automatically receive 0 points).\n",
    "\n",
    "4. Submit your final work as a __.pdf__ file on __Gradescope__. To convert your .ipynb file into one of these formats, navigate to \"File\", select \"Download as\", and then choose either \"PDF via LaTeX\" or \"HTML\". If \"PDF via LaTeX\" does not work for you, export to \"HTML\", and then use Chrome to print the .html file into PDF. Gradescope only accepts PDF files.\n",
    "\n",
    "5. On gradescope, mark the locations of your answers on your submission in order to facilitate grading.\n",
    "\n",
    "6. This assignment will be graded on your proficiency in programming. Be sure to demonstrate your abilities and submit your own, correct and readable solutions. "
   ]
  },
  {
   "cell_type": "markdown",
   "metadata": {},
   "source": [
    "### Problem 1 : Getting to Philosophy [10 Points]\n",
    "\n",
    "Lets play a variation of the [wiki game](https://en.wikipedia.org/wiki/Wikipedia:Wiki_Game) to learn about [this](https://en.wikipedia.org/wiki/Wikipedia:Getting_to_Philosophy) phenomenon. The rules are as follows: \n",
    " - Start using the random article link (wiki menu on the left hand side)\n",
    " - Click on the first non-italicized link outside of parentheses \n",
    " - Ignore external links (e.g., `/wiki/File:...` or `/wiki/Category:...`), links to the current page\n",
    " - Stop when reaching \"Philosophy\", a dead end (page with no links) or when a loop occurs"
   ]
  },
  {
   "cell_type": "markdown",
   "metadata": {},
   "source": [
    "#### Exercise\n",
    "\n",
    "Write a function `play` that plays the game and stops if \"Philosophy\" is not reached after `maxiter = 1000` steps. This function should return information to compute the quantities below. \n",
    "\n",
    "Play the game $200$ times. Then Report:\n",
    " - the mean number of sites visited per game, \n",
    " - the maximum number of sites visited per game,\n",
    " - and number of convergences to \"Philosophy\" and \n",
    " - the 20 most visited sites over all 200 games. \n",
    "\n",
    " __(The sample output does not include the results you need to report)__\n",
    " \n",
    "You may want to use the module `lxml.html` and the function `tostring` `lxml.etree` or similar packages to to parse the html. Besides these, you are allowed to use `requests`, `re`, and `time`. To display the results, you may use `pandas` and its method `pandas.Series.value_counts()` or similar packages. You might find [regexr.com](https://regexr.com/) helpful. "
   ]
  },
  {
   "cell_type": "markdown",
   "metadata": {},
   "source": [
    "__Hint for writing this function:__\n",
    "\n",
    "1. **Function Definition**: Define the `play` function that accepts a starting URL and a maximum number of iterations (`maxiter`).\n",
    "\n",
    "2. **HTTP Request**: Use the `requests` module to perform a GET request on the given URL.\n",
    "\n",
    "3. **HTML Parsing**: Parse the returned HTML content using `lxml.html` to find links.\n",
    "\n",
    "4. **Link Selection**: Define a regular expression using the `re` module to match the first non-italicized link outside of parentheses that is not an external link, a file link, a category link, or a link to the current page. This part is the most difficult part of this problem.\n",
    "\n",
    "5. **Game Loop**: Implement a loop that follows the selected link and repeats the process, while keeping track of visited sites and checking for \"Philosophy\", dead ends, or loops. Use a counter to ensure the loop stops after `maxiter` iterations.\n",
    "\n",
    "__Sample output for play() function:__"
   ]
  },
  {
   "cell_type": "code",
   "execution_count": 15,
   "metadata": {},
   "outputs": [
    {
     "name": "stdout",
     "output_type": "stream",
     "text": [
      "Mean number of sites visited per game: 14.2\n",
      "Maximum number of sites visited per game: 22\n",
      "Number of convergences to 'Philosophy': 71\n",
      "Top 20 most visited sites:\n",
      "/wiki/Abstraction               124\n",
      "/wiki/Rule_of_inference         124\n",
      "/wiki/Philosophy_of_logic       124\n",
      "/wiki/Communication             123\n",
      "/wiki/Information               123\n",
      "/wiki/Language                  119\n",
      "/wiki/Classical_language         75\n",
      "/wiki/Latin                      69\n",
      "/wiki/Greek_language             68\n",
      "/wiki/Modern_Greek               68\n",
      "/wiki/Dialect                    68\n",
      "/wiki/Ancient_Greek_language     39\n",
      "/wiki/Empirical_evidence         33\n",
      "/wiki/Scientific_method          33\n",
      "/wiki/Analytic_philosophy        33\n",
      "/wiki/Proposition                33\n",
      "/wiki/Philosophy_of_language     33\n",
      "/wiki/Ancient_Greek              26\n",
      "/wiki/Geography                  24\n",
      "/wiki/Organism                   23\n",
      "Name: count, dtype: int64\n"
     ]
    }
   ],
   "source": [
    "import requests\n",
    "from lxml import html\n",
    "import re\n",
    "import time\n",
    "import pandas as pd\n",
    "\n",
    "def is_link_in_parentheses(element):\n",
    "    \"\"\"\n",
    "    Check if the link is within parentheses by examining the text content \n",
    "    around the link.\n",
    "    \"\"\"\n",
    "    text_content = ''.join(element.xpath('.//text()'))\n",
    "    link_text = element.text_content()\n",
    "    start_index = text_content.find(link_text)\n",
    "    if start_index != -1:\n",
    "        # Count the number of opening and closing parentheses before and after the link text\n",
    "        before = text_content[:start_index].count('(') - text_content[:start_index].count(')')\n",
    "        after = text_content[start_index:].count(')') - text_content[start_index:].count('(')\n",
    "        return before > 0 or after > 0\n",
    "    return False\n",
    "\n",
    "def play(start_url, maxiter=1000):\n",
    "    visited_pages = []\n",
    "    current_url = start_url\n",
    "    base_url = \"https://en.wikipedia.org\"\n",
    "    \n",
    "    for _ in range(maxiter):\n",
    "        response = requests.get(base_url + current_url)\n",
    "        tree = html.fromstring(response.content)\n",
    "        \n",
    "        for element in tree.xpath('//p//a[not(contains(@href, \":\")) and not(contains(@class, \"new\")) and starts-with(@href, \"/wiki/\")]'):\n",
    "            href = element.get('href')\n",
    "            if not is_link_in_parentheses(element) and href != current_url:\n",
    "                current_url = href\n",
    "                break\n",
    "        else:\n",
    "            break\n",
    "\n",
    "        if current_url in visited_pages or current_url.endswith('/Philosophy'):\n",
    "            break\n",
    "        visited_pages.append(current_url)\n",
    "\n",
    "        time.sleep(0.1)\n",
    "\n",
    "    return visited_pages\n",
    "\n",
    "paths = [play('/wiki/Special:Random') for _ in range(200)]\n",
    "df = pd.DataFrame({'paths': game_result})\n",
    "mean_sites_visited = df['paths'].apply(len).mean()\n",
    "max_sites_visited = df['paths'].apply(len).max()\n",
    "games_won = df['paths'].apply(lambda x: x[-1].endswith('/Philosophy') if x else False).sum()\n",
    "all_sites = pd.Series([site for path in paths for site in path])\n",
    "top_20_sites = all_sites.value_counts().head(20)\n",
    "\n",
    "print(\"Mean number of sites visited per game:\", mean_sites_visited)\n",
    "print(\"Maximum number of sites visited per game:\", max_sites_visited)\n",
    "print(\"Number of convergences to 'Philosophy':\", games_won)\n",
    "print(\"Top 20 most visited sites:\")\n",
    "print(top_20_sites)\n"
   ]
  },
  {
   "cell_type": "code",
   "execution_count": 16,
   "metadata": {},
   "outputs": [],
   "source": [
    "#these are all the lines that mightve been cut off on top\n",
    "\n",
    "#1 - \n",
    "#for element in tree.xpath('//p//a[not(contains(@href, \":\")) and not(contains(@class, \"new\")) \n",
    "#     and starts-with(@href, \"/wiki/\")]'): href = element.get('href')\n",
    "\n",
    "\n",
    "#2\n",
    "#before = text_content[:start_index].count('(') - text_content[:start_index].count(')')\n",
    "#after = text_content[start_index:].count(')') - text_content[start_index:].count('(')\n",
    "\n",
    "#3\n",
    "#games_won = df['paths'].apply(lambda x: x[-1].endswith('/Philosophy') if x else False).sum()\n"
   ]
  },
  {
   "cell_type": "code",
   "execution_count": 13,
   "metadata": {},
   "outputs": [
    {
     "ename": "TypeError",
     "evalue": "list indices must be integers or slices, not str",
     "output_type": "error",
     "traceback": [
      "\u001b[0;31m---------------------------------------------------------------------------\u001b[0m",
      "\u001b[0;31mTypeError\u001b[0m                                 Traceback (most recent call last)",
      "Cell \u001b[0;32mIn[13], line 1\u001b[0m\n\u001b[0;32m----> 1\u001b[0m \u001b[43mplay\u001b[49m\u001b[43m(\u001b[49m\u001b[38;5;124;43m'\u001b[39;49m\u001b[38;5;124;43m/wiki/Robert_Alfred_Tarlton\u001b[39;49m\u001b[38;5;124;43m'\u001b[39;49m\u001b[43m)\u001b[49m\u001b[43m[\u001b[49m\u001b[38;5;124;43m'\u001b[39;49m\u001b[38;5;124;43mpages\u001b[39;49m\u001b[38;5;124;43m'\u001b[39;49m\u001b[43m]\u001b[49m\n",
      "\u001b[0;31mTypeError\u001b[0m: list indices must be integers or slices, not str"
     ]
    }
   ],
   "source": [
    "play('/wiki/Robert_Alfred_Tarlton')['pages']"
   ]
  },
  {
   "cell_type": "code",
   "execution_count": 5,
   "metadata": {},
   "outputs": [
    {
     "data": {
      "text/plain": [
       "['/wiki/Riku_Morgan',\n",
       " '/wiki/Nigerian_Airforce',\n",
       " '/wiki/Nigerian_Armed_Forces',\n",
       " '/wiki/Military',\n",
       " '/wiki/Warfare',\n",
       " '/wiki/State_(polity)',\n",
       " '/wiki/Politics',\n",
       " '/wiki/Decision-making',\n",
       " '/wiki/Psychology',\n",
       " '/wiki/Mind',\n",
       " '/wiki/Thought',\n",
       " '/wiki/Consciousness',\n",
       " '/wiki/Awareness',\n",
       " '/wiki/Philosophy']"
      ]
     },
     "execution_count": 5,
     "metadata": {},
     "output_type": "execute_result"
    }
   ],
   "source": [
    "play('/wiki/Riku_Morgan')['pages']"
   ]
  },
  {
   "cell_type": "code",
   "execution_count": 6,
   "metadata": {},
   "outputs": [
    {
     "data": {
      "text/plain": [
       "['/wiki/Brigade_Commander_(video_game)',\n",
       " '/wiki/Amiga_Action',\n",
       " '/wiki/Amiga',\n",
       " '/wiki/Personal_computer',\n",
       " '/wiki/Microcomputer',\n",
       " '/wiki/Computer',\n",
       " '/wiki/Machine',\n",
       " '/wiki/Power_(physics)',\n",
       " '/wiki/Physics',\n",
       " '/wiki/Natural_science',\n",
       " '/wiki/Branches_of_science',\n",
       " '/wiki/Sciences',\n",
       " '/wiki/Scientific_method',\n",
       " '/wiki/Empirical_evidence',\n",
       " '/wiki/Proposition',\n",
       " '/wiki/Philosophy_of_language',\n",
       " '/wiki/Analytic_philosophy',\n",
       " '/wiki/Philosophical_tradition',\n",
       " '/wiki/Philosophy']"
      ]
     },
     "execution_count": 6,
     "metadata": {},
     "output_type": "execute_result"
    }
   ],
   "source": [
    "play('/wiki/Brigade_Commander_(video_game)')['pages']"
   ]
  },
  {
   "cell_type": "code",
   "execution_count": 7,
   "metadata": {},
   "outputs": [
    {
     "data": {
      "text/plain": [
       "['/wiki/Exclusive_(TV_series)', '/wiki/Double_Vision_(company)']"
      ]
     },
     "execution_count": 7,
     "metadata": {},
     "output_type": "execute_result"
    }
   ],
   "source": [
    "play('/wiki/Exclusive_(TV_series)')['pages']"
   ]
  }
 ],
 "metadata": {
  "kernelspec": {
   "display_name": "Python 3 (ipykernel)",
   "language": "python",
   "name": "python3"
  },
  "language_info": {
   "codemirror_mode": {
    "name": "ipython",
    "version": 3
   },
   "file_extension": ".py",
   "mimetype": "text/x-python",
   "name": "python",
   "nbconvert_exporter": "python",
   "pygments_lexer": "ipython3",
   "version": "3.9.0"
  }
 },
 "nbformat": 4,
 "nbformat_minor": 2
}
